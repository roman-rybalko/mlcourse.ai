{
 "cells": [
  {
   "cell_type": "markdown",
   "metadata": {},
   "source": [
    "# Exploratory Data Analysis - clustering - part 2"
   ]
  },
  {
   "cell_type": "markdown",
   "metadata": {},
   "source": [
    "Попробуем кластеризовать только новости."
   ]
  },
  {
   "cell_type": "code",
   "execution_count": null,
   "metadata": {
    "colab": {},
    "colab_type": "code",
    "id": "xais9mEzlDxi"
   },
   "outputs": [],
   "source": [
    "# Re-install pytables for hdf support (google colab has old & glitchy pytables)\n",
    "#!pip uninstall -y tables\n",
    "#!pip install tables"
   ]
  },
  {
   "cell_type": "markdown",
   "metadata": {},
   "source": [
    "Новости отобраны в выборке fe3."
   ]
  },
  {
   "cell_type": "code",
   "execution_count": 1,
   "metadata": {},
   "outputs": [
    {
     "name": "stdout",
     "output_type": "stream",
     "text": [
      "<class 'pandas.core.frame.DataFrame'>\n",
      "Int64Index: 51302 entries, 6 to 227650\n",
      "Data columns (total 39 columns):\n",
      "filename         51302 non-null object\n",
      "text             51302 non-null object\n",
      "lang             51302 non-null object\n",
      "url              51302 non-null object\n",
      "site             51302 non-null object\n",
      "time             51302 non-null object\n",
      "title            51302 non-null object\n",
      "description      51236 non-null object\n",
      "news             51302 non-null object\n",
      "politics         51302 non-null object\n",
      "elections        51302 non-null object\n",
      "legislation      51302 non-null object\n",
      "incidents        51302 non-null object\n",
      "crime            51302 non-null object\n",
      "society          51302 non-null object\n",
      "markets          51302 non-null object\n",
      "finance          51302 non-null object\n",
      "business         51302 non-null object\n",
      "economy          51302 non-null object\n",
      "gadgets          51302 non-null object\n",
      "auto             51302 non-null object\n",
      "apps             51302 non-null object\n",
      "internet         51302 non-null object\n",
      "technology       51302 non-null object\n",
      "sport            51302 non-null object\n",
      "e-sport          51302 non-null object\n",
      "esport           51302 non-null object\n",
      "sports           51302 non-null object\n",
      "movies           51302 non-null object\n",
      "music            51302 non-null object\n",
      "games            51302 non-null object\n",
      "books            51302 non-null object\n",
      "arts             51302 non-null object\n",
      "entertainment    51302 non-null object\n",
      "health           51302 non-null object\n",
      "biology          51302 non-null object\n",
      "physics          51302 non-null object\n",
      "genetics         51302 non-null object\n",
      "science          51302 non-null object\n",
      "dtypes: object(39)\n",
      "memory usage: 15.7+ MB\n"
     ]
    }
   ],
   "source": [
    "import pandas as pd\n",
    "df = pd.read_hdf('fe3.h5')\n",
    "df.info()"
   ]
  },
  {
   "cell_type": "code",
   "execution_count": 2,
   "metadata": {
    "colab": {
     "base_uri": "https://localhost:8080/",
     "height": 206
    },
    "colab_type": "code",
    "id": "UzK7j00FLCSP",
    "outputId": "8bdebf92-ac9f-4925-b552-281d769eabdf"
   },
   "outputs": [
    {
     "data": {
      "text/html": [
       "<div>\n",
       "<style scoped>\n",
       "    .dataframe tbody tr th:only-of-type {\n",
       "        vertical-align: middle;\n",
       "    }\n",
       "\n",
       "    .dataframe tbody tr th {\n",
       "        vertical-align: top;\n",
       "    }\n",
       "\n",
       "    .dataframe thead th {\n",
       "        text-align: right;\n",
       "    }\n",
       "</style>\n",
       "<table border=\"1\" class=\"dataframe\">\n",
       "  <thead>\n",
       "    <tr style=\"text-align: right;\">\n",
       "      <th></th>\n",
       "      <th>filename</th>\n",
       "      <th>text</th>\n",
       "      <th>lang</th>\n",
       "      <th>url</th>\n",
       "      <th>site</th>\n",
       "      <th>time</th>\n",
       "      <th>title</th>\n",
       "      <th>description</th>\n",
       "      <th>news</th>\n",
       "      <th>politics</th>\n",
       "      <th>...</th>\n",
       "      <th>music</th>\n",
       "      <th>games</th>\n",
       "      <th>books</th>\n",
       "      <th>arts</th>\n",
       "      <th>entertainment</th>\n",
       "      <th>health</th>\n",
       "      <th>biology</th>\n",
       "      <th>physics</th>\n",
       "      <th>genetics</th>\n",
       "      <th>science</th>\n",
       "    </tr>\n",
       "  </thead>\n",
       "  <tbody>\n",
       "    <tr>\n",
       "      <th>6</th>\n",
       "      <td>dataset/20191108/15/8549607152500932485.html</td>\n",
       "      <td>\\n\\n\\n\\n\\n\\n\\n\\n\\n\\n\\n\\nTether Responds to Mar...</td>\n",
       "      <td>en</td>\n",
       "      <td>https://www.channel3000.com/news/national-news...</td>\n",
       "      <td>CHANNEL3000</td>\n",
       "      <td>2019-11-08T15:40:38+00:00</td>\n",
       "      <td>GM sells Ohio plant to electric pickup truck s...</td>\n",
       "      <td>A massive Lordstown, Ohio, auto assembly plant...</td>\n",
       "      <td>True</td>\n",
       "      <td>False</td>\n",
       "      <td>...</td>\n",
       "      <td>False</td>\n",
       "      <td>False</td>\n",
       "      <td>False</td>\n",
       "      <td>False</td>\n",
       "      <td>False</td>\n",
       "      <td>False</td>\n",
       "      <td>False</td>\n",
       "      <td>False</td>\n",
       "      <td>False</td>\n",
       "      <td>False</td>\n",
       "    </tr>\n",
       "    <tr>\n",
       "      <th>14</th>\n",
       "      <td>dataset/20191108/15/830332542632492475.html</td>\n",
       "      <td>\\n\\n\\n\\n\\n\\n\\n\\n\\n\\n\\n\\nGM sells Ohio plant to...</td>\n",
       "      <td>en</td>\n",
       "      <td>https://www.wonderzine.com/wonderzine/style/st...</td>\n",
       "      <td>Wonderzine</td>\n",
       "      <td>2019-11-08T15:47:10+00:00</td>\n",
       "      <td>adidas и Prada анонсировали коллаборацию</td>\n",
       "      <td>Сообщается, что они выпустят обувную капсулу</td>\n",
       "      <td>True</td>\n",
       "      <td>False</td>\n",
       "      <td>...</td>\n",
       "      <td>False</td>\n",
       "      <td>False</td>\n",
       "      <td>False</td>\n",
       "      <td>False</td>\n",
       "      <td>False</td>\n",
       "      <td>False</td>\n",
       "      <td>False</td>\n",
       "      <td>False</td>\n",
       "      <td>False</td>\n",
       "      <td>False</td>\n",
       "    </tr>\n",
       "    <tr>\n",
       "      <th>15</th>\n",
       "      <td>dataset/20191108/15/8334514181545177130.html</td>\n",
       "      <td>\\n\\n\\n\\n\\n\\n\\n\\n\\n\\n\\n\\nParis police detain ro...</td>\n",
       "      <td>en</td>\n",
       "      <td>https://saratov24.tv/news/saratovtsy-brosilis-...</td>\n",
       "      <td>Саратов 24</td>\n",
       "      <td>2019-11-08T15:03:00+00:00</td>\n",
       "      <td>Саратовцы бросились врассыпную от журналистов</td>\n",
       "      <td>Саратовцы приняли участие в общественных слуша...</td>\n",
       "      <td>True</td>\n",
       "      <td>False</td>\n",
       "      <td>...</td>\n",
       "      <td>False</td>\n",
       "      <td>False</td>\n",
       "      <td>False</td>\n",
       "      <td>False</td>\n",
       "      <td>False</td>\n",
       "      <td>False</td>\n",
       "      <td>False</td>\n",
       "      <td>False</td>\n",
       "      <td>False</td>\n",
       "      <td>False</td>\n",
       "    </tr>\n",
       "    <tr>\n",
       "      <th>19</th>\n",
       "      <td>dataset/20191108/15/6322622075196907308.html</td>\n",
       "      <td>\\n\\n\\n\\n\\n\\n\\n\\n\\n\\n\\n\\nRakyat will understand...</td>\n",
       "      <td>en</td>\n",
       "      <td>https://www.foxnews.com/sports/michael-jordan-...</td>\n",
       "      <td>Fox News</td>\n",
       "      <td>2019-11-08T15:05:04+00:00</td>\n",
       "      <td>Michael Jordan dismissed load management contr...</td>\n",
       "      <td>As the NBA appeared to have moved past the pre...</td>\n",
       "      <td>True</td>\n",
       "      <td>False</td>\n",
       "      <td>...</td>\n",
       "      <td>False</td>\n",
       "      <td>True</td>\n",
       "      <td>False</td>\n",
       "      <td>False</td>\n",
       "      <td>False</td>\n",
       "      <td>False</td>\n",
       "      <td>False</td>\n",
       "      <td>False</td>\n",
       "      <td>False</td>\n",
       "      <td>False</td>\n",
       "    </tr>\n",
       "    <tr>\n",
       "      <th>21</th>\n",
       "      <td>dataset/20191108/15/3689716734325452356.html</td>\n",
       "      <td>\\n\\n\\n\\n\\n\\n\\n\\n\\n\\n\\n\\nПродолжаются народные ...</td>\n",
       "      <td>ru</td>\n",
       "      <td>https://glavnoe.ua/news/n357008428-rossija-nac...</td>\n",
       "      <td>Главное™</td>\n",
       "      <td>2019-11-08T15:06:00+00:00</td>\n",
       "      <td>Россия начала продавать билеты на пассажирские...</td>\n",
       "      <td>Ежедневные рейсы через Крымский мост запустят ...</td>\n",
       "      <td>True</td>\n",
       "      <td>False</td>\n",
       "      <td>...</td>\n",
       "      <td>False</td>\n",
       "      <td>False</td>\n",
       "      <td>False</td>\n",
       "      <td>False</td>\n",
       "      <td>False</td>\n",
       "      <td>False</td>\n",
       "      <td>False</td>\n",
       "      <td>False</td>\n",
       "      <td>False</td>\n",
       "      <td>False</td>\n",
       "    </tr>\n",
       "  </tbody>\n",
       "</table>\n",
       "<p>5 rows × 39 columns</p>\n",
       "</div>"
      ],
      "text/plain": [
       "                                        filename  \\\n",
       "6   dataset/20191108/15/8549607152500932485.html   \n",
       "14   dataset/20191108/15/830332542632492475.html   \n",
       "15  dataset/20191108/15/8334514181545177130.html   \n",
       "19  dataset/20191108/15/6322622075196907308.html   \n",
       "21  dataset/20191108/15/3689716734325452356.html   \n",
       "\n",
       "                                                 text lang  \\\n",
       "6   \\n\\n\\n\\n\\n\\n\\n\\n\\n\\n\\n\\nTether Responds to Mar...   en   \n",
       "14  \\n\\n\\n\\n\\n\\n\\n\\n\\n\\n\\n\\nGM sells Ohio plant to...   en   \n",
       "15  \\n\\n\\n\\n\\n\\n\\n\\n\\n\\n\\n\\nParis police detain ro...   en   \n",
       "19  \\n\\n\\n\\n\\n\\n\\n\\n\\n\\n\\n\\nRakyat will understand...   en   \n",
       "21  \\n\\n\\n\\n\\n\\n\\n\\n\\n\\n\\n\\nПродолжаются народные ...   ru   \n",
       "\n",
       "                                                  url         site  \\\n",
       "6   https://www.channel3000.com/news/national-news...  CHANNEL3000   \n",
       "14  https://www.wonderzine.com/wonderzine/style/st...   Wonderzine   \n",
       "15  https://saratov24.tv/news/saratovtsy-brosilis-...   Саратов 24   \n",
       "19  https://www.foxnews.com/sports/michael-jordan-...     Fox News   \n",
       "21  https://glavnoe.ua/news/n357008428-rossija-nac...     Главное™   \n",
       "\n",
       "                         time  \\\n",
       "6   2019-11-08T15:40:38+00:00   \n",
       "14  2019-11-08T15:47:10+00:00   \n",
       "15  2019-11-08T15:03:00+00:00   \n",
       "19  2019-11-08T15:05:04+00:00   \n",
       "21  2019-11-08T15:06:00+00:00   \n",
       "\n",
       "                                                title  \\\n",
       "6   GM sells Ohio plant to electric pickup truck s...   \n",
       "14           adidas и Prada анонсировали коллаборацию   \n",
       "15      Саратовцы бросились врассыпную от журналистов   \n",
       "19  Michael Jordan dismissed load management contr...   \n",
       "21  Россия начала продавать билеты на пассажирские...   \n",
       "\n",
       "                                          description  news politics  ...  \\\n",
       "6   A massive Lordstown, Ohio, auto assembly plant...  True    False  ...   \n",
       "14       Сообщается, что они выпустят обувную капсулу  True    False  ...   \n",
       "15  Саратовцы приняли участие в общественных слуша...  True    False  ...   \n",
       "19  As the NBA appeared to have moved past the pre...  True    False  ...   \n",
       "21  Ежедневные рейсы через Крымский мост запустят ...  True    False  ...   \n",
       "\n",
       "    music  games  books   arts entertainment health biology physics genetics  \\\n",
       "6   False  False  False  False         False  False   False   False    False   \n",
       "14  False  False  False  False         False  False   False   False    False   \n",
       "15  False  False  False  False         False  False   False   False    False   \n",
       "19  False   True  False  False         False  False   False   False    False   \n",
       "21  False  False  False  False         False  False   False   False    False   \n",
       "\n",
       "   science  \n",
       "6    False  \n",
       "14   False  \n",
       "15   False  \n",
       "19   False  \n",
       "21   False  \n",
       "\n",
       "[5 rows x 39 columns]"
      ]
     },
     "execution_count": 2,
     "metadata": {},
     "output_type": "execute_result"
    }
   ],
   "source": [
    "df.head()"
   ]
  },
  {
   "cell_type": "code",
   "execution_count": null,
   "metadata": {},
   "outputs": [],
   "source": [
    "#!pip install nltk"
   ]
  },
  {
   "cell_type": "code",
   "execution_count": 3,
   "metadata": {},
   "outputs": [],
   "source": [
    "import nltk\n",
    "#nltk.download('stopwords', download_dir='nltk_data')\n",
    "nltk.data.path.append('nltk_data')"
   ]
  },
  {
   "cell_type": "code",
   "execution_count": 4,
   "metadata": {},
   "outputs": [
    {
     "data": {
      "text/plain": [
       "['i',\n",
       " 'me',\n",
       " 'my',\n",
       " 'myself',\n",
       " 'we',\n",
       " 'our',\n",
       " 'ours',\n",
       " 'ourselves',\n",
       " 'you',\n",
       " \"you're\",\n",
       " \"you've\",\n",
       " \"you'll\",\n",
       " \"you'd\",\n",
       " 'your',\n",
       " 'yours',\n",
       " 'yourself',\n",
       " 'yourselves',\n",
       " 'he',\n",
       " 'him',\n",
       " 'his',\n",
       " 'himself',\n",
       " 'she',\n",
       " \"she's\",\n",
       " 'her',\n",
       " 'hers',\n",
       " 'herself',\n",
       " 'it',\n",
       " \"it's\",\n",
       " 'its',\n",
       " 'itself',\n",
       " 'they',\n",
       " 'them',\n",
       " 'their',\n",
       " 'theirs',\n",
       " 'themselves',\n",
       " 'what',\n",
       " 'which',\n",
       " 'who',\n",
       " 'whom',\n",
       " 'this',\n",
       " 'that',\n",
       " \"that'll\",\n",
       " 'these',\n",
       " 'those',\n",
       " 'am',\n",
       " 'is',\n",
       " 'are',\n",
       " 'was',\n",
       " 'were',\n",
       " 'be',\n",
       " 'been',\n",
       " 'being',\n",
       " 'have',\n",
       " 'has',\n",
       " 'had',\n",
       " 'having',\n",
       " 'do',\n",
       " 'does',\n",
       " 'did',\n",
       " 'doing',\n",
       " 'a',\n",
       " 'an',\n",
       " 'the',\n",
       " 'and',\n",
       " 'but',\n",
       " 'if',\n",
       " 'or',\n",
       " 'because',\n",
       " 'as',\n",
       " 'until',\n",
       " 'while',\n",
       " 'of',\n",
       " 'at',\n",
       " 'by',\n",
       " 'for',\n",
       " 'with',\n",
       " 'about',\n",
       " 'against',\n",
       " 'between',\n",
       " 'into',\n",
       " 'through',\n",
       " 'during',\n",
       " 'before',\n",
       " 'after',\n",
       " 'above',\n",
       " 'below',\n",
       " 'to',\n",
       " 'from',\n",
       " 'up',\n",
       " 'down',\n",
       " 'in',\n",
       " 'out',\n",
       " 'on',\n",
       " 'off',\n",
       " 'over',\n",
       " 'under',\n",
       " 'again',\n",
       " 'further',\n",
       " 'then',\n",
       " 'once',\n",
       " 'here',\n",
       " 'there',\n",
       " 'when',\n",
       " 'where',\n",
       " 'why',\n",
       " 'how',\n",
       " 'all',\n",
       " 'any',\n",
       " 'both',\n",
       " 'each',\n",
       " 'few',\n",
       " 'more',\n",
       " 'most',\n",
       " 'other',\n",
       " 'some',\n",
       " 'such',\n",
       " 'no',\n",
       " 'nor',\n",
       " 'not',\n",
       " 'only',\n",
       " 'own',\n",
       " 'same',\n",
       " 'so',\n",
       " 'than',\n",
       " 'too',\n",
       " 'very',\n",
       " 's',\n",
       " 't',\n",
       " 'can',\n",
       " 'will',\n",
       " 'just',\n",
       " 'don',\n",
       " \"don't\",\n",
       " 'should',\n",
       " \"should've\",\n",
       " 'now',\n",
       " 'd',\n",
       " 'll',\n",
       " 'm',\n",
       " 'o',\n",
       " 're',\n",
       " 've',\n",
       " 'y',\n",
       " 'ain',\n",
       " 'aren',\n",
       " \"aren't\",\n",
       " 'couldn',\n",
       " \"couldn't\",\n",
       " 'didn',\n",
       " \"didn't\",\n",
       " 'doesn',\n",
       " \"doesn't\",\n",
       " 'hadn',\n",
       " \"hadn't\",\n",
       " 'hasn',\n",
       " \"hasn't\",\n",
       " 'haven',\n",
       " \"haven't\",\n",
       " 'isn',\n",
       " \"isn't\",\n",
       " 'ma',\n",
       " 'mightn',\n",
       " \"mightn't\",\n",
       " 'mustn',\n",
       " \"mustn't\",\n",
       " 'needn',\n",
       " \"needn't\",\n",
       " 'shan',\n",
       " \"shan't\",\n",
       " 'shouldn',\n",
       " \"shouldn't\",\n",
       " 'wasn',\n",
       " \"wasn't\",\n",
       " 'weren',\n",
       " \"weren't\",\n",
       " 'won',\n",
       " \"won't\",\n",
       " 'wouldn',\n",
       " \"wouldn't\"]"
      ]
     },
     "execution_count": 4,
     "metadata": {},
     "output_type": "execute_result"
    }
   ],
   "source": [
    "from nltk.corpus import stopwords\n",
    "stopwords.words('english')"
   ]
  },
  {
   "cell_type": "code",
   "execution_count": 5,
   "metadata": {},
   "outputs": [
    {
     "name": "stdout",
     "output_type": "stream",
     "text": [
      "CPU times: user 8.76 s, sys: 68 ms, total: 8.83 s\n",
      "Wall time: 8.84 s\n"
     ]
    }
   ],
   "source": [
    "%%time\n",
    "from sklearn.feature_extraction.text import CountVectorizer\n",
    "cv = CountVectorizer(stop_words=stopwords.words('english'))\n",
    "data = cv.fit_transform(df[df['lang'] == 'en']['text'].values)"
   ]
  },
  {
   "cell_type": "markdown",
   "metadata": {},
   "source": [
    "Количество признаков:"
   ]
  },
  {
   "cell_type": "code",
   "execution_count": 6,
   "metadata": {},
   "outputs": [
    {
     "data": {
      "text/plain": [
       "159804"
      ]
     },
     "execution_count": 6,
     "metadata": {},
     "output_type": "execute_result"
    }
   ],
   "source": [
    "data.shape[1]"
   ]
  },
  {
   "cell_type": "markdown",
   "metadata": {},
   "source": [
    "## Кластеризация"
   ]
  },
  {
   "cell_type": "code",
   "execution_count": 8,
   "metadata": {},
   "outputs": [
    {
     "name": "stdout",
     "output_type": "stream",
     "text": [
      "CPU times: user 1.01 s, sys: 1.34 s, total: 2.35 s\n",
      "Wall time: 672 ms\n"
     ]
    },
    {
     "data": {
      "text/plain": [
       "28323886.501368124"
      ]
     },
     "execution_count": 8,
     "metadata": {},
     "output_type": "execute_result"
    }
   ],
   "source": [
    "%%time\n",
    "from sklearn.cluster import MiniBatchKMeans\n",
    "cl = MiniBatchKMeans(n_clusters=10)\n",
    "cl.fit(data)\n",
    "cl.inertia_"
   ]
  },
  {
   "cell_type": "code",
   "execution_count": 11,
   "metadata": {},
   "outputs": [
    {
     "data": {
      "text/plain": [
       "0"
      ]
     },
     "execution_count": 11,
     "metadata": {},
     "output_type": "execute_result"
    }
   ],
   "source": [
    "%%time\n",
    "from sklearn.cluster import DBSCAN\n",
    "cl2 = DBSCAN()\n",
    "cl2.fit(data)\n",
    "len(cl2.components_)"
   ]
  },
  {
   "cell_type": "code",
   "execution_count": 17,
   "metadata": {},
   "outputs": [
    {
     "data": {
      "text/plain": [
       "array([-1, -1, -1, ..., -1, -1, -1])"
      ]
     },
     "execution_count": 17,
     "metadata": {},
     "output_type": "execute_result"
    }
   ],
   "source": [
    "cl2.labels_"
   ]
  },
  {
   "cell_type": "code",
   "execution_count": 16,
   "metadata": {},
   "outputs": [
    {
     "data": {
      "text/plain": [
       "[]"
      ]
     },
     "execution_count": 16,
     "metadata": {},
     "output_type": "execute_result"
    }
   ],
   "source": [
    "[x for x in cl2.labels_ if x != -1]"
   ]
  }
 ],
 "metadata": {
  "colab": {
   "collapsed_sections": [],
   "name": "telegram_data_clustering_contest_FE.ipynb",
   "provenance": []
  },
  "kernelspec": {
   "display_name": "Python 3",
   "language": "python",
   "name": "python3"
  },
  "language_info": {
   "codemirror_mode": {
    "name": "ipython",
    "version": 3
   },
   "file_extension": ".py",
   "mimetype": "text/x-python",
   "name": "python",
   "nbconvert_exporter": "python",
   "pygments_lexer": "ipython3",
   "version": "3.7.5"
  }
 },
 "nbformat": 4,
 "nbformat_minor": 1
}
