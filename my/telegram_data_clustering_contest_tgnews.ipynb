{
 "cells": [
  {
   "cell_type": "markdown",
   "metadata": {},
   "source": [
    "# Реализация tgnews"
   ]
  },
  {
   "cell_type": "code",
   "execution_count": null,
   "metadata": {
    "colab": {},
    "colab_type": "code",
    "id": "xais9mEzlDxi"
   },
   "outputs": [],
   "source": [
    "# Re-install pytables for hdf support (google colab has old & glitchy pytables)\n",
    "#!pip uninstall -y tables\n",
    "#!pip install tables"
   ]
  },
  {
   "cell_type": "code",
   "execution_count": 1,
   "metadata": {},
   "outputs": [
    {
     "name": "stdout",
     "output_type": "stream",
     "text": [
      "<class 'pandas.core.frame.DataFrame'>\n",
      "Int64Index: 227654 entries, 0 to 467481\n",
      "Data columns (total 39 columns):\n",
      "filename         227654 non-null object\n",
      "text             227654 non-null object\n",
      "lang             227654 non-null object\n",
      "url              103093 non-null object\n",
      "site             103093 non-null object\n",
      "time             103093 non-null object\n",
      "title            103093 non-null object\n",
      "description      102861 non-null object\n",
      "news             103093 non-null object\n",
      "politics         103093 non-null object\n",
      "elections        103093 non-null object\n",
      "legislation      103093 non-null object\n",
      "incidents        103093 non-null object\n",
      "crime            103093 non-null object\n",
      "society          103093 non-null object\n",
      "markets          103093 non-null object\n",
      "finance          103093 non-null object\n",
      "business         103093 non-null object\n",
      "economy          103093 non-null object\n",
      "gadgets          103093 non-null object\n",
      "auto             103093 non-null object\n",
      "apps             103093 non-null object\n",
      "internet         103093 non-null object\n",
      "technology       103093 non-null object\n",
      "sport            103093 non-null object\n",
      "e-sport          103093 non-null object\n",
      "esport           103093 non-null object\n",
      "sports           103093 non-null object\n",
      "movies           103093 non-null object\n",
      "music            103093 non-null object\n",
      "games            103093 non-null object\n",
      "books            103093 non-null object\n",
      "arts             103093 non-null object\n",
      "entertainment    103093 non-null object\n",
      "health           103093 non-null object\n",
      "biology          103093 non-null object\n",
      "physics          103093 non-null object\n",
      "genetics         103093 non-null object\n",
      "science          103093 non-null object\n",
      "dtypes: object(39)\n",
      "memory usage: 69.5+ MB\n"
     ]
    }
   ],
   "source": [
    "import pandas as pd\n",
    "df = pd.read_hdf('fe1.h5')\n",
    "df2 = pd.read_hdf('fe2.h5')\n",
    "df[df2.columns] = df2\n",
    "df.info()"
   ]
  },
  {
   "cell_type": "code",
   "execution_count": 2,
   "metadata": {
    "colab": {
     "base_uri": "https://localhost:8080/",
     "height": 206
    },
    "colab_type": "code",
    "id": "UzK7j00FLCSP",
    "outputId": "8bdebf92-ac9f-4925-b552-281d769eabdf"
   },
   "outputs": [
    {
     "data": {
      "text/html": [
       "<div>\n",
       "<style scoped>\n",
       "    .dataframe tbody tr th:only-of-type {\n",
       "        vertical-align: middle;\n",
       "    }\n",
       "\n",
       "    .dataframe tbody tr th {\n",
       "        vertical-align: top;\n",
       "    }\n",
       "\n",
       "    .dataframe thead th {\n",
       "        text-align: right;\n",
       "    }\n",
       "</style>\n",
       "<table border=\"1\" class=\"dataframe\">\n",
       "  <thead>\n",
       "    <tr style=\"text-align: right;\">\n",
       "      <th></th>\n",
       "      <th>filename</th>\n",
       "      <th>text</th>\n",
       "      <th>lang</th>\n",
       "      <th>url</th>\n",
       "      <th>site</th>\n",
       "      <th>time</th>\n",
       "      <th>title</th>\n",
       "      <th>description</th>\n",
       "      <th>news</th>\n",
       "      <th>politics</th>\n",
       "      <th>...</th>\n",
       "      <th>music</th>\n",
       "      <th>games</th>\n",
       "      <th>books</th>\n",
       "      <th>arts</th>\n",
       "      <th>entertainment</th>\n",
       "      <th>health</th>\n",
       "      <th>biology</th>\n",
       "      <th>physics</th>\n",
       "      <th>genetics</th>\n",
       "      <th>science</th>\n",
       "    </tr>\n",
       "  </thead>\n",
       "  <tbody>\n",
       "    <tr>\n",
       "      <th>0</th>\n",
       "      <td>dataset/20191108/15/1491978796208217930.html</td>\n",
       "      <td>\\n\\n\\n\\n\\n\\n\\n\\n\\n\\n\\n\\nNewcastle United v Bou...</td>\n",
       "      <td>en</td>\n",
       "      <td>https://www.theguardian.com/football/2019/nov/...</td>\n",
       "      <td>the Guardian</td>\n",
       "      <td>2019-11-08T15:14:57+00:00</td>\n",
       "      <td>Newcastle United v Bournemouth: match preview</td>\n",
       "      <td>Newcastle finally found attacking rhythm last ...</td>\n",
       "      <td>False</td>\n",
       "      <td>False</td>\n",
       "      <td>...</td>\n",
       "      <td>False</td>\n",
       "      <td>False</td>\n",
       "      <td>False</td>\n",
       "      <td>False</td>\n",
       "      <td>False</td>\n",
       "      <td>False</td>\n",
       "      <td>False</td>\n",
       "      <td>False</td>\n",
       "      <td>False</td>\n",
       "      <td>False</td>\n",
       "    </tr>\n",
       "    <tr>\n",
       "      <th>4</th>\n",
       "      <td>dataset/20191108/15/6359253557838878602.html</td>\n",
       "      <td>\\n\\n\\n\\n\\n\\n\\n\\n\\n\\n\\n\\nМинкомсвязь негативно ...</td>\n",
       "      <td>ru</td>\n",
       "      <td>https://www.destructoid.com/american-truck-sim...</td>\n",
       "      <td>Destructoid</td>\n",
       "      <td>2019-11-08T15:00:00+00:00</td>\n",
       "      <td>American Truck Simulator is free for the weekend</td>\n",
       "      <td>Between Red Dead Redemption 2, Death Stranding...</td>\n",
       "      <td>False</td>\n",
       "      <td>False</td>\n",
       "      <td>...</td>\n",
       "      <td>False</td>\n",
       "      <td>False</td>\n",
       "      <td>False</td>\n",
       "      <td>False</td>\n",
       "      <td>False</td>\n",
       "      <td>False</td>\n",
       "      <td>False</td>\n",
       "      <td>False</td>\n",
       "      <td>False</td>\n",
       "      <td>False</td>\n",
       "    </tr>\n",
       "    <tr>\n",
       "      <th>6</th>\n",
       "      <td>dataset/20191108/15/8549607152500932485.html</td>\n",
       "      <td>\\n\\n\\n\\n\\n\\n\\n\\n\\n\\n\\n\\nTether Responds to Mar...</td>\n",
       "      <td>en</td>\n",
       "      <td>https://www.channel3000.com/news/national-news...</td>\n",
       "      <td>CHANNEL3000</td>\n",
       "      <td>2019-11-08T15:40:38+00:00</td>\n",
       "      <td>GM sells Ohio plant to electric pickup truck s...</td>\n",
       "      <td>A massive Lordstown, Ohio, auto assembly plant...</td>\n",
       "      <td>True</td>\n",
       "      <td>False</td>\n",
       "      <td>...</td>\n",
       "      <td>False</td>\n",
       "      <td>False</td>\n",
       "      <td>False</td>\n",
       "      <td>False</td>\n",
       "      <td>False</td>\n",
       "      <td>False</td>\n",
       "      <td>False</td>\n",
       "      <td>False</td>\n",
       "      <td>False</td>\n",
       "      <td>False</td>\n",
       "    </tr>\n",
       "    <tr>\n",
       "      <th>7</th>\n",
       "      <td>dataset/20191108/15/3752801377276103486.html</td>\n",
       "      <td>\\n\\n\\n\\n\\n\\n\\n\\n\\n\\n\\n\\nAnger over Las Vegas b...</td>\n",
       "      <td>en</td>\n",
       "      <td>https://www.reuters.com/article/us-france-dohe...</td>\n",
       "      <td>Reuters</td>\n",
       "      <td>2019-11-08T15:37:01+00:00</td>\n",
       "      <td>Paris police detain rocker Pete Doherty for bu...</td>\n",
       "      <td>PARIS (Reuters) - British rocker Pete Doherty ...</td>\n",
       "      <td>False</td>\n",
       "      <td>False</td>\n",
       "      <td>...</td>\n",
       "      <td>False</td>\n",
       "      <td>False</td>\n",
       "      <td>False</td>\n",
       "      <td>False</td>\n",
       "      <td>False</td>\n",
       "      <td>False</td>\n",
       "      <td>False</td>\n",
       "      <td>False</td>\n",
       "      <td>False</td>\n",
       "      <td>False</td>\n",
       "    </tr>\n",
       "    <tr>\n",
       "      <th>10</th>\n",
       "      <td>dataset/20191108/15/5545714965965021212.html</td>\n",
       "      <td>\\n\\n\\n\\n\\n\\n\\n\\n\\n\\n\\n\\nAmerican Truck Simulat...</td>\n",
       "      <td>en</td>\n",
       "      <td>https://www.theedgemarkets.com/article/rakyat-...</td>\n",
       "      <td>The Edge Markets</td>\n",
       "      <td>2019-11-08T15:33:46+00:00</td>\n",
       "      <td>Rakyat will understand if told the true pictur...</td>\n",
       "      <td>PONTIAN (Nov 8): The Tanjung Piai by-election ...</td>\n",
       "      <td>False</td>\n",
       "      <td>False</td>\n",
       "      <td>...</td>\n",
       "      <td>False</td>\n",
       "      <td>False</td>\n",
       "      <td>False</td>\n",
       "      <td>False</td>\n",
       "      <td>False</td>\n",
       "      <td>False</td>\n",
       "      <td>False</td>\n",
       "      <td>False</td>\n",
       "      <td>False</td>\n",
       "      <td>False</td>\n",
       "    </tr>\n",
       "  </tbody>\n",
       "</table>\n",
       "<p>5 rows × 39 columns</p>\n",
       "</div>"
      ],
      "text/plain": [
       "                                        filename  \\\n",
       "0   dataset/20191108/15/1491978796208217930.html   \n",
       "4   dataset/20191108/15/6359253557838878602.html   \n",
       "6   dataset/20191108/15/8549607152500932485.html   \n",
       "7   dataset/20191108/15/3752801377276103486.html   \n",
       "10  dataset/20191108/15/5545714965965021212.html   \n",
       "\n",
       "                                                 text lang  \\\n",
       "0   \\n\\n\\n\\n\\n\\n\\n\\n\\n\\n\\n\\nNewcastle United v Bou...   en   \n",
       "4   \\n\\n\\n\\n\\n\\n\\n\\n\\n\\n\\n\\nМинкомсвязь негативно ...   ru   \n",
       "6   \\n\\n\\n\\n\\n\\n\\n\\n\\n\\n\\n\\nTether Responds to Mar...   en   \n",
       "7   \\n\\n\\n\\n\\n\\n\\n\\n\\n\\n\\n\\nAnger over Las Vegas b...   en   \n",
       "10  \\n\\n\\n\\n\\n\\n\\n\\n\\n\\n\\n\\nAmerican Truck Simulat...   en   \n",
       "\n",
       "                                                  url              site  \\\n",
       "0   https://www.theguardian.com/football/2019/nov/...      the Guardian   \n",
       "4   https://www.destructoid.com/american-truck-sim...       Destructoid   \n",
       "6   https://www.channel3000.com/news/national-news...       CHANNEL3000   \n",
       "7   https://www.reuters.com/article/us-france-dohe...           Reuters   \n",
       "10  https://www.theedgemarkets.com/article/rakyat-...  The Edge Markets   \n",
       "\n",
       "                         time  \\\n",
       "0   2019-11-08T15:14:57+00:00   \n",
       "4   2019-11-08T15:00:00+00:00   \n",
       "6   2019-11-08T15:40:38+00:00   \n",
       "7   2019-11-08T15:37:01+00:00   \n",
       "10  2019-11-08T15:33:46+00:00   \n",
       "\n",
       "                                                title  \\\n",
       "0       Newcastle United v Bournemouth: match preview   \n",
       "4    American Truck Simulator is free for the weekend   \n",
       "6   GM sells Ohio plant to electric pickup truck s...   \n",
       "7   Paris police detain rocker Pete Doherty for bu...   \n",
       "10  Rakyat will understand if told the true pictur...   \n",
       "\n",
       "                                          description   news politics  ...  \\\n",
       "0   Newcastle finally found attacking rhythm last ...  False    False  ...   \n",
       "4   Between Red Dead Redemption 2, Death Stranding...  False    False  ...   \n",
       "6   A massive Lordstown, Ohio, auto assembly plant...   True    False  ...   \n",
       "7   PARIS (Reuters) - British rocker Pete Doherty ...  False    False  ...   \n",
       "10  PONTIAN (Nov 8): The Tanjung Piai by-election ...  False    False  ...   \n",
       "\n",
       "    music  games  books   arts entertainment health biology physics genetics  \\\n",
       "0   False  False  False  False         False  False   False   False    False   \n",
       "4   False  False  False  False         False  False   False   False    False   \n",
       "6   False  False  False  False         False  False   False   False    False   \n",
       "7   False  False  False  False         False  False   False   False    False   \n",
       "10  False  False  False  False         False  False   False   False    False   \n",
       "\n",
       "   science  \n",
       "0    False  \n",
       "4    False  \n",
       "6    False  \n",
       "7    False  \n",
       "10   False  \n",
       "\n",
       "[5 rows x 39 columns]"
      ]
     },
     "execution_count": 2,
     "metadata": {},
     "output_type": "execute_result"
    }
   ],
   "source": [
    "df.head()"
   ]
  },
  {
   "cell_type": "markdown",
   "metadata": {},
   "source": [
    "## tgnews languages"
   ]
  },
  {
   "cell_type": "code",
   "execution_count": 9,
   "metadata": {},
   "outputs": [
    {
     "data": {
      "text/plain": [
       "ru    120468\n",
       "en    107186\n",
       "Name: lang, dtype: int64"
      ]
     },
     "execution_count": 9,
     "metadata": {},
     "output_type": "execute_result"
    }
   ],
   "source": [
    "df['lang'].value_counts()"
   ]
  },
  {
   "cell_type": "markdown",
   "metadata": {},
   "source": [
    "## Обучение"
   ]
  },
  {
   "cell_type": "code",
   "execution_count": 18,
   "metadata": {},
   "outputs": [],
   "source": [
    "top_cat = 'News'\n",
    "cats = {\n",
    "    'Society': ('Politics', 'Elections', 'Legislation', 'Incidents', 'Crime'),\n",
    "    'Economy': ('Markets', 'Finance', 'Business'),\n",
    "    'Technology': ('Gadgets', 'Auto', 'Apps', 'Internet'),\n",
    "    'Sports': ('Sport', 'E-Sport', 'ESport'),\n",
    "    'Entertainment': ('Movies', 'Music', 'Games', 'Books', 'Arts'),\n",
    "    'Science': ('Health', 'Biology', 'Physics', 'Genetics'),\n",
    "}\n",
    "other_cat = 'Other'\n",
    "rev_cats = dict()\n",
    "for cat in cats:\n",
    "  for c in cats[cat]:\n",
    "    rev_cats[c] = cat\n",
    "  rev_cats[cat] = cat\n",
    "all_cats = [top_cat] + list(rev_cats.keys())\n",
    "def get_cat_filters(df, lang):\n",
    "    global rev_cats, top_cat, other_cat\n",
    "    cat_filters = {cat: df[cat.lower()] == True for cat in set(rev_cats.values())}\n",
    "    for cat in rev_cats:\n",
    "        cat_filters[rev_cats[cat]] = cat_filters[rev_cats[cat]] | (df[cat.lower()] == True)\n",
    "    for cat in cat_filters:\n",
    "        cat_filters[cat] = cat_filters[cat] & (df[top_cat.lower()] == True)\n",
    "    cat_filters[top_cat] = df[top_cat.lower()] == True\n",
    "    cat_filters[other_cat] = df[top_cat.lower()] == True\n",
    "    for cat in rev_cats:\n",
    "        cat_filters[other_cat] = cat_filters[other_cat] & (df[cat.lower()] == False)\n",
    "    for cat in cat_filters:\n",
    "        cat_filters[cat] = cat_filters[cat] & (df['lang'] == lang)\n",
    "    return cat_filters"
   ]
  },
  {
   "cell_type": "code",
   "execution_count": 6,
   "metadata": {},
   "outputs": [],
   "source": [
    "import nltk\n",
    "#nltk.download('stopwords', download_dir='nltk_data')\n",
    "nltk.data.path.append('nltk_data')\n",
    "from nltk.corpus import stopwords"
   ]
  },
  {
   "cell_type": "code",
   "execution_count": 12,
   "metadata": {},
   "outputs": [],
   "source": [
    "from sklearn.pipeline import Pipeline\n",
    "from sklearn.feature_extraction.text import CountVectorizer\n",
    "from sklearn.linear_model import LogisticRegression\n",
    "def get_model(lang):\n",
    "    long_lang = 'english' if lang == 'en' else 'russian'\n",
    "    pl = Pipeline([\n",
    "        ('cv', CountVectorizer(stop_words=stopwords.words(long_lang))),\n",
    "        ('lr', LogisticRegression(verbose=3)),\n",
    "    ], verbose=3)\n",
    "    return pl"
   ]
  },
  {
   "cell_type": "code",
   "execution_count": 22,
   "metadata": {},
   "outputs": [],
   "source": [
    "import pickle\n",
    "def create_model(cat, lang):\n",
    "    m = get_model(lang)\n",
    "    df_lang = df[df['lang'] == lang]\n",
    "    m.fit(df_lang['text'].values, get_cat_filters(df_lang, lang)[cat].astype('int').values)\n",
    "    with open('%s_%s.pkl' % (cat,lang), 'wb') as f:\n",
    "        pickle.dump(m, f)"
   ]
  },
  {
   "cell_type": "code",
   "execution_count": 33,
   "metadata": {},
   "outputs": [
    {
     "name": "stderr",
     "output_type": "stream",
     "text": [
      "[Parallel(n_jobs=2)]: Using backend LokyBackend with 2 concurrent workers.\n"
     ]
    },
    {
     "name": "stdout",
     "output_type": "stream",
     "text": [
      "-rw-r--r-- 1 root root 19357399 Nov 23 12:08 News_en.pkl\r\n"
     ]
    },
    {
     "name": "stderr",
     "output_type": "stream",
     "text": [
      "[Parallel(n_jobs=2)]: Done  14 out of  14 | elapsed: 14.3min finished\n"
     ]
    },
    {
     "name": "stdout",
     "output_type": "stream",
     "text": [
      "-rw-r--r-- 1 root root 19357399 Nov 23 12:08 Society_en.pkl\n",
      "-rw-r--r-- 1 root root 19357399 Nov 23 12:11 Economy_en.pkl\n",
      "-rw-r--r-- 1 root root 19357399 Nov 23 12:10 Technology_en.pkl\n",
      "-rw-r--r-- 1 root root 19357399 Nov 23 12:13 Sports_en.pkl\n",
      "-rw-r--r-- 1 root root 19357399 Nov 23 12:13 Entertainment_en.pkl\n",
      "-rw-r--r-- 1 root root 19357399 Nov 23 12:15 Science_en.pkl\n",
      "-rw-r--r-- 1 root root 38227851 Nov 23 12:15 News_ru.pkl\n",
      "-rw-r--r-- 1 root root 38227851 Nov 23 12:17 Society_ru.pkl\n",
      "-rw-r--r-- 1 root root 38227851 Nov 23 12:17 Economy_ru.pkl\n",
      "-rw-r--r-- 1 root root 38227851 Nov 23 12:18 Technology_ru.pkl\n",
      "-rw-r--r-- 1 root root 38227851 Nov 23 12:19 Sports_ru.pkl\n",
      "-rw-r--r-- 1 root root 38227851 Nov 23 12:20 Entertainment_ru.pkl\n",
      "-rw-r--r-- 1 root root 38227851 Nov 23 12:20 Science_ru.pkl\n"
     ]
    }
   ],
   "source": [
    "from joblib import Parallel, delayed\n",
    "Parallel(n_jobs=2, verbose=3)(delayed(create_model)(cat, lang)\n",
    "                               for lang in ['en', 'ru'] for cat in [top_cat] + list(cats.keys()))\n",
    "for lang in ['en', 'ru']:\n",
    "    for cat in [top_cat] + list(cats.keys()):\n",
    "        !ls -l {cat}_{lang}.pkl"
   ]
  },
  {
   "cell_type": "code",
   "execution_count": 46,
   "metadata": {},
   "outputs": [],
   "source": [
    "def categorize(cat, lang):\n",
    "    global df\n",
    "    df_lang = df[df['lang'] == lang]\n",
    "    ret = [(lang, 'input', df_lang.shape[0])]\n",
    "    with open('%s_%s.pkl' % (cat, lang), 'rb') as f:\n",
    "        m = pickle.load(f)\n",
    "        result = m.predict(df_lang['text'].values)\n",
    "        ret += [(lang, cat, len(df_lang[result == 1]['filename'].values))]\n",
    "    return ret"
   ]
  },
  {
   "cell_type": "markdown",
   "metadata": {},
   "source": [
    "## tgnews news"
   ]
  },
  {
   "cell_type": "code",
   "execution_count": 50,
   "metadata": {},
   "outputs": [
    {
     "name": "stderr",
     "output_type": "stream",
     "text": [
      "[Parallel(n_jobs=-1)]: Using backend LokyBackend with 6 concurrent workers.\n"
     ]
    },
    {
     "name": "stdout",
     "output_type": "stream",
     "text": [
      "en input 107186\n",
      "en News 11403\n",
      "ru input 120468\n",
      "ru News 18232\n",
      "CPU times: user 2.11 s, sys: 2.04 s, total: 4.14 s\n",
      "Wall time: 43 s\n"
     ]
    },
    {
     "name": "stderr",
     "output_type": "stream",
     "text": [
      "[Parallel(n_jobs=-1)]: Done   2 out of   2 | elapsed:   42.7s remaining:    0.0s\n",
      "[Parallel(n_jobs=-1)]: Done   2 out of   2 | elapsed:   42.7s finished\n"
     ]
    }
   ],
   "source": [
    "%%time\n",
    "for ret in Parallel(n_jobs=-1, verbose=3)(delayed(categorize)(top_cat, lang) for lang in ['en', 'ru']):\n",
    "    for lang, cat, cnt in ret:\n",
    "        print(lang, cat, cnt)"
   ]
  },
  {
   "cell_type": "markdown",
   "metadata": {},
   "source": [
    "## tgnews categories"
   ]
  },
  {
   "cell_type": "code",
   "execution_count": 54,
   "metadata": {},
   "outputs": [
    {
     "name": "stderr",
     "output_type": "stream",
     "text": [
      "[Parallel(n_jobs=4)]: Using backend LokyBackend with 4 concurrent workers.\n",
      "[Parallel(n_jobs=4)]: Done  10 out of  12 | elapsed:  1.8min remaining:   21.6s\n"
     ]
    },
    {
     "name": "stdout",
     "output_type": "stream",
     "text": [
      "en input 107186\n",
      "en Society 947\n",
      "en input 107186\n",
      "en Economy 639\n",
      "en input 107186\n",
      "en Technology 330\n",
      "en input 107186\n",
      "en Sports 1119\n",
      "en input 107186\n",
      "en Entertainment 497\n",
      "en input 107186\n",
      "en Science 244\n",
      "ru input 120468\n",
      "ru Society 1561\n",
      "ru input 120468\n",
      "ru Economy 944\n",
      "ru input 120468\n",
      "ru Technology 435\n",
      "ru input 120468\n",
      "ru Sports 1421\n",
      "ru input 120468\n",
      "ru Entertainment 571\n",
      "ru input 120468\n",
      "ru Science 257\n",
      "CPU times: user 12 s, sys: 10.3 s, total: 22.3 s\n",
      "Wall time: 1min 55s\n"
     ]
    },
    {
     "name": "stderr",
     "output_type": "stream",
     "text": [
      "[Parallel(n_jobs=4)]: Done  12 out of  12 | elapsed:  1.9min finished\n"
     ]
    }
   ],
   "source": [
    "%%time\n",
    "for ret in Parallel(n_jobs=4, verbose=3)(delayed(categorize)(cat, lang) for lang in ['en', 'ru'] for cat in cats):\n",
    "    for (lang, cat, cnt) in ret:\n",
    "        print(lang, cat, cnt)"
   ]
  }
 ],
 "metadata": {
  "colab": {
   "collapsed_sections": [],
   "name": "telegram_data_clustering_contest_FE.ipynb",
   "provenance": []
  },
  "kernelspec": {
   "display_name": "Python 3",
   "language": "python",
   "name": "python3"
  },
  "language_info": {
   "codemirror_mode": {
    "name": "ipython",
    "version": 3
   },
   "file_extension": ".py",
   "mimetype": "text/x-python",
   "name": "python",
   "nbconvert_exporter": "python",
   "pygments_lexer": "ipython3",
   "version": "3.7.5"
  }
 },
 "nbformat": 4,
 "nbformat_minor": 1
}
